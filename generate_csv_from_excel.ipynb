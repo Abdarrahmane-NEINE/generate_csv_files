{
 "cells": [
  {
   "cell_type": "code",
   "execution_count": null,
   "id": "17303c74",
   "metadata": {},
   "outputs": [],
   "source": [
    "import openpyxl\n",
    "import csv\n",
    "\n",
    "# Load file\n",
    "wb = openpyxl.load_workbook('Testeurs.xlsx')\n",
    "sheet = wb.active\n",
    "\n",
    "groups = {}\n",
    "\n",
    "# loop based on mail & group\n",
    "for row in sheet.iter_rows(min_row=2, values_only=True):\n",
    "    email = row[0].strip()\n",
    "    group = row[1].strip()\n",
    "\n",
    "    if group in groups:\n",
    "        groups[group].append(email)\n",
    "    else:\n",
    "        groups[group] = [email]\n",
    "\n",
    "# generate file for each group\n",
    "for group, emails in groups.items():\n",
    "    \n",
    "    filename = f'file/{group}.csv'\n",
    "    with open(filename, 'w', newline='') as csvfile:\n",
    "        writer = csv.writer(csvfile)\n",
    "        for email in emails:\n",
    "            writer.writerow([email])\n",
    "    print(f'csv file created for group {group}.')\n",
    "\n",
    "print('All csv files created successfully.')\n"
   ]
  },
  {
   "cell_type": "code",
   "execution_count": null,
   "id": "5a1ead34",
   "metadata": {},
   "outputs": [],
   "source": []
  }
 ],
 "metadata": {
  "kernelspec": {
   "display_name": "Python 3 (ipykernel)",
   "language": "python",
   "name": "python3"
  },
  "language_info": {
   "codemirror_mode": {
    "name": "ipython",
    "version": 3
   },
   "file_extension": ".py",
   "mimetype": "text/x-python",
   "name": "python",
   "nbconvert_exporter": "python",
   "pygments_lexer": "ipython3",
   "version": "3.10.4"
  }
 },
 "nbformat": 4,
 "nbformat_minor": 5
}
